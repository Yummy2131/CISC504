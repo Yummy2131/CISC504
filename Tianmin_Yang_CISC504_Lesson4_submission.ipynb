{
 "cells": [
  {
   "cell_type": "markdown",
   "metadata": {},
   "source": [
    "HW Exercise: \n",
    "Suppose you have a database with first and last name, the first entry is as follows: First_name=John and last_name=Smith. \n",
    "Create the two variables and then use the slice and concatenate operations to create a new variable \n",
    "which lists the first letter of first name and complete last name as follows: Jsmith."
   ]
  },
  {
   "cell_type": "code",
   "execution_count": 3,
   "metadata": {},
   "outputs": [
    {
     "name": "stdout",
     "output_type": "stream",
     "text": [
      "Please enter how many names you have3\n",
      "Please enter your nameTianmin Yang\n",
      "Please enter your nameLunwei Tan\n",
      "Please enter your nameJames Ma\n",
      "Here is a full name list ['Tianmin Yang', 'James Ma', 'Lunwei Tan']\n",
      "['TYang', 'JMa', 'LTan']\n"
     ]
    }
   ],
   "source": [
    "# Creat a set consist of first name and last name read from 6 inputs\n",
    "\n",
    "Name=set()\n",
    "Lastname=set()\n",
    "n=int(input('Please enter how many names you have'))\n",
    "for i in range(n):\n",
    "    inputname=str(input('Please enter your name'))\n",
    "    Name.add(inputname)\n",
    "    namelist=list(Name)   \n",
    "#print('Here is a full name list',namelist)\n",
    "\n",
    "\n",
    "n=len(namelist)\n",
    "#print(n)\n",
    "\n",
    "namesplit=[]\n",
    "for j in range(n):\n",
    "    namestr=str(namelist[j])\n",
    "    namesplit.append(namestr.split())\n",
    "#namesplit\n",
    "\n",
    "\n",
    "def column(matrix, a):\n",
    "    return [row[a] for row in matrix]\n",
    "\n",
    "Firstname=column(namesplit, 0)\n",
    "Lastname=column(namesplit, 1)\n",
    "#Firstname\n",
    "#Lastname\n",
    "\n",
    "Compositname=[]\n",
    "for k in range(n):\n",
    "    First=str(Firstname[k])\n",
    "    Last=str(Lastname[k])\n",
    "    ComName=First[0:1]+Last\n",
    "    Compositname.append(ComName)\n",
    "    \n",
    "print(Compositname)"
   ]
  },
  {
   "cell_type": "markdown",
   "metadata": {},
   "source": [
    "HW Exercise 2: \n",
    "  You discovered that taking the first letter from every word in a sentence you found on a piece of paper deciphers a secret message. \n",
    "  The sentence is as follows: Send eagle cross rainbow entire time. \n",
    "  Use the slice and concatenate functions or just slice function to decipher."
   ]
  },
  {
   "cell_type": "code",
   "execution_count": 12,
   "metadata": {},
   "outputs": [
    {
     "name": "stdout",
     "output_type": "stream",
     "text": [
      "Here is the deciphered message:  Secret\n"
     ]
    }
   ],
   "source": [
    "Code='Send eagle cross rainbow entire time'\n",
    "Sentence=Code.split(' ')\n",
    "#Sentence\n",
    "n=len(Sentence)\n",
    "decipher=''\n",
    "for i in range(n):\n",
    "    Letter=Sentence[i]\n",
    "    decipher=decipher+str(Letter[0:1])\n",
    "\n",
    "print('Here is the deciphered message: ',decipher)"
   ]
  },
  {
   "cell_type": "code",
   "execution_count": null,
   "metadata": {},
   "outputs": [],
   "source": []
  }
 ],
 "metadata": {
  "kernelspec": {
   "display_name": "Python 3",
   "language": "python",
   "name": "python3"
  },
  "language_info": {
   "codemirror_mode": {
    "name": "ipython",
    "version": 3
   },
   "file_extension": ".py",
   "mimetype": "text/x-python",
   "name": "python",
   "nbconvert_exporter": "python",
   "pygments_lexer": "ipython3",
   "version": "3.7.0"
  }
 },
 "nbformat": 4,
 "nbformat_minor": 2
}
