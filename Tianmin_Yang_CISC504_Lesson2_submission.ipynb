{
 "cells": [
  {
   "cell_type": "markdown",
   "metadata": {},
   "source": [
    "## Exersice 1"
   ]
  },
  {
   "cell_type": "code",
   "execution_count": null,
   "metadata": {},
   "outputs": [],
   "source": [
    "# From the future value example listed above list one of each of the following: \n",
    "# Name, expression, output statement, and a simple variable assignment.\n",
    "\n",
    "#Variable assignment:Assign the numerical data for variable 'principal' and 'apr'\n",
    "principal = float(input('Enter the initial principal: '))\n",
    "apr = float(input('Enter the annualized interest rate: '))\n",
    "\n",
    "#Name:Main is the name of the the main function that calls in every run\n",
    "def main(): print ('This program calculates the future value of a 10-year investment.')\n",
    "\n",
    "#Expression:the calculation formular: principal=principal * (1 + apr)\n",
    "for i in range(10):principal = principal * (1 + apr)\n",
    "\n",
    "#Output statement:Print act as the output of main function\n",
    "print ('The amount in 10 years is:', principal)\n",
    "main()"
   ]
  },
  {
   "cell_type": "markdown",
   "metadata": {},
   "source": [
    "## Exersice 2"
   ]
  },
  {
   "cell_type": "code",
   "execution_count": null,
   "metadata": {},
   "outputs": [],
   "source": [
    "#Requirements:\n",
    "    #Tanslate date of birth to it's constellations\n",
    "#Specifications:\n",
    "    #Able to identify the constellation in code as simple as possible\n",
    "    #Seperate the costellation even by adjacent dates"
   ]
  },
  {
   "cell_type": "code",
   "execution_count": null,
   "metadata": {},
   "outputs": [],
   "source": [
    "#Flow chart: "
   ]
  },
  {
   "cell_type": "markdown",
   "metadata": {},
   "source": [
    "![Tianmin Flowchart](https://raw.githubusercontent.com/Yummy2131/CISC504/master/Tianmin_Flowchart.png)"
   ]
  },
  {
   "cell_type": "code",
   "execution_count": null,
   "metadata": {},
   "outputs": [],
   "source": [
    "\n",
    "#Twelve constellations\n",
    "\n",
    "#Define dictionary for index search\n",
    "month_list={'1':'Jan','2':'Feb','3':'Mar','4':'Apr','5':'May','6':'June','7':'July','8':'Aug','9':'Sep','10':'Oct','11':'Nov','12':'Dec'}\n",
    "accumulate_days={'Jan':1,'Feb':-1,'Mar':0,'Apr':0,'May':1,'June':1,'July':2,'Aug':3,'Sep':3,'Oct':4,'Nov':4,'Dec':5}\n",
    "astro_sym={'0':'Aquarius','1':'Pisces','2':'Aries','3':'Taurus','4':'Gemini','5':'Cancer','6':'Leo','7':'Virgo','8':'Libra','9':'Scorpio','10':'Sagittarius','11':'Capricorn'}\n",
    "\n",
    "#Initiate variables\n",
    "month_str='Jan'\n",
    "month_num=0\n",
    "day_num=0\n",
    "astro='string'\n",
    "\n",
    "#Import math\n",
    "import math\n",
    "\n",
    "#Require imput\n",
    "month_num=int(input('Enter the month you are born in:'))\n",
    "day_num=int(input('Enter the day you are born in:'))\n",
    "\n",
    "#Start main function\n",
    "def main():\n",
    "\n",
    "    #Check the imput     \n",
    "    if (int(month_num)>12 or int(month_num)<1 or int(day_num)<1 or int(day_num)>31):\n",
    "        print('The date you input is not correct, please try again')\n",
    "    #Start searching for constellations\n",
    "    else:\n",
    "        print('You are born in:',month_num,'/',day_num)\n",
    "        month_str=month_list[str(month_num)]\n",
    "        a_days=accumulate_days[month_str]\n",
    "    #Rule out special occation\n",
    "        if (month_num==2):\n",
    "            total_days=31+day_num\n",
    "        else:\n",
    "            total_days=int(day_num+(month_num-1)*30)\n",
    "        print('Total days before your birthday',total_days)\n",
    "    \n",
    "    #Calculate which zone the birthday falls into \n",
    "        if(month_num==10 and day_num>23 or month_num==11 and day_num<22):\n",
    "            section='9'\n",
    "        elif(month_num==11 and day_num>21 or month_num==12 and day_num<22):\n",
    "            section='10'\n",
    "        elif(month_num==12 and day_num>21 or month_num==1 and day_num<20):\n",
    "            section='11'\n",
    "        elif(month_num<3 or month_num<4 and day_num<21):\n",
    "            section=str(math.ceil((total_days-20)/30)-1)\n",
    "        else:\n",
    "            section=str(math.ceil((total_days-78)/31+1))\n",
    "            \n",
    "    #Get Constellation by index    \n",
    "    #print('This is section you are in',section)\n",
    "        constellation=astro_sym[section]\n",
    "        print('Your constellation is:',constellation)\n",
    "    \n",
    "main()"
   ]
  }
 ],
 "metadata": {
  "kernelspec": {
   "display_name": "Python 3",
   "language": "python",
   "name": "python3"
  },
  "language_info": {
   "codemirror_mode": {
    "name": "ipython",
    "version": 3
   },
   "file_extension": ".py",
   "mimetype": "text/x-python",
   "name": "python",
   "nbconvert_exporter": "python",
   "pygments_lexer": "ipython3",
   "version": "3.7.0"
  }
 },
 "nbformat": 4,
 "nbformat_minor": 2
}
