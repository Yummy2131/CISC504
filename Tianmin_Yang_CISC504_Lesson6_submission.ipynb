{
 "cells": [
  {
   "cell_type": "markdown",
   "metadata": {},
   "source": [
    "Exercise 1: \n",
    "    Write a Python function which will sum all the following listed items (5,8,2,4,7,9)"
   ]
  },
  {
   "cell_type": "code",
   "execution_count": null,
   "metadata": {},
   "outputs": [],
   "source": [
    "\n",
    "def s():\n",
    "    global c\n",
    "    c=0\n",
    "    for i in range(10):\n",
    "        calculate=input('Continue adding? Y or N')\n",
    "        if calculate=='Y':\n",
    "            a=int(input('Please input number '))\n",
    "            c=c+a\n",
    "        else:\n",
    "            return c\n",
    "\n",
    "s()"
   ]
  },
  {
   "cell_type": "code",
   "execution_count": null,
   "metadata": {},
   "outputs": [],
   "source": [
    "Exercise 2: Write a Python function whihc will find the product/multiply the items in the following list: (4,3,5,6,2)"
   ]
  },
  {
   "cell_type": "code",
   "execution_count": null,
   "metadata": {},
   "outputs": [],
   "source": [
    "def m():\n",
    "    global c\n",
    "    c=1\n",
    "    for i in range(10):\n",
    "        calculate=input('Continue multipling? Y or N')\n",
    "        if calculate=='Y':\n",
    "            a=int(input('Please input number '))\n",
    "            c=c*a\n",
    "        else:\n",
    "            return c\n",
    "\n",
    "m()"
   ]
  },
  {
   "cell_type": "markdown",
   "metadata": {},
   "source": [
    "Given the following array. Using numpy:"
   ]
  },
  {
   "cell_type": "code",
   "execution_count": 12,
   "metadata": {},
   "outputs": [
    {
     "name": "stdout",
     "output_type": "stream",
     "text": [
      "[[5 5 8 8 9 8]\n",
      " [7 7 5 3 5 7]\n",
      " [8 7 8 4 2 6]\n",
      " [9 9 7 3 1 4]]\n",
      "The sorted flatten array is:\n",
      "[1 2 3 3 4 4 5 5 5 5 6 7 7 7 7 7 8 8 8 8 8 9 9 9]\n",
      "-----------\n",
      "The sorted along second column array is:\n",
      "[5 7 7 9]\n",
      "-----------\n",
      "The sorted along third row array is\n",
      "[2 4 6 7 8 8]\n",
      "-----------\n",
      "The second row onwards is:\n",
      "[[7 7 5 3 5 7]\n",
      " [8 7 8 4 2 6]\n",
      " [9 9 7 3 1 4]]\n",
      "-----------\n",
      "The third column onwards is:\n",
      "[[8 8 9 8]\n",
      " [5 3 5 7]\n",
      " [8 4 2 6]\n",
      " [7 3 1 4]]\n",
      "-----------\n",
      "The square of array_hw is:\n",
      "[[2.23606798 2.23606798 2.82842712 2.82842712 3.         2.82842712]\n",
      " [2.64575131 2.64575131 2.23606798 1.73205081 2.23606798 2.64575131]\n",
      " [2.82842712 2.64575131 2.82842712 2.         1.41421356 2.44948974]\n",
      " [3.         3.         2.64575131 1.73205081 1.         2.        ]]\n",
      "-----------\n",
      "Slice 3X4 is\n",
      "4\n",
      "-----------\n",
      "Sum of array\n",
      "145\n",
      "-----------\n",
      "Dimention of array\n",
      "2\n",
      "-----------\n",
      "Datatype of array\n",
      "int32\n",
      "-----------\n",
      "Bytes of array\n",
      "96\n",
      "-----------\n"
     ]
    }
   ],
   "source": [
    "import numpy as np\n",
    "\n",
    "array_hw=np.array([[5,5,8,8,9,8],[7,7,5,3,5,7],[8,7,8,4,2,6],[9,9,7,3,1,4]])\n",
    "print(array_hw)\n",
    "\n",
    "#Sort the flattened array\n",
    "print('The sorted flatten array is:')\n",
    "print(np.sort(array_hw,axis=None))\n",
    "print('-----------')\n",
    "\n",
    "#Sort the second column\n",
    "print('The sorted along second column array is:')\n",
    "print(np.sort(array_hw[...,1]))\n",
    "print('-----------')\n",
    "\n",
    "#Sort the third row\n",
    "print('The sorted along third row array is')\n",
    "print(np.sort(array_hw[2,...]))\n",
    "print('-----------')\n",
    "\n",
    "#Extract the second row onwards\n",
    "print('The second row onwards is:')\n",
    "print(array_hw[1:,...])\n",
    "print('-----------')\n",
    "\n",
    "#Extract the third column onwards\n",
    "print('The third column onwards is:')\n",
    "print(array_hw[...,2:])\n",
    "print('-----------')\n",
    "\n",
    "#obtain the square of array_hw\n",
    "print('The square of array_hw is:')\n",
    "print(np.sqrt(array_hw))\n",
    "print('-----------')\n",
    "\n",
    "#Slice the element from the third row and fourth column position 3X4\n",
    "print('Slice 3X4 is')\n",
    "print(array_hw[2,3])\n",
    "print('-----------')\n",
    "\n",
    "#Obtain the total sum of array_hw\n",
    "print('Sum of array')\n",
    "print(array_hw.sum())\n",
    "print('-----------')\n",
    "\n",
    "#How many dimentions does array_hw have?\n",
    "print('Dimention of array')\n",
    "print(array_hw.ndim)\n",
    "print('-----------')\n",
    "\n",
    "#What is the data type listed in array_hw?\n",
    "print('Datatype of array')\n",
    "print(array_hw.dtype)\n",
    "print('-----------')\n",
    "\n",
    "#What is the size of the memory in bytes consumed by all the elements in array_hw?\n",
    "print('Bytes of array')\n",
    "print(array_hw.nbytes)\n",
    "print('-----------')"
   ]
  }
 ],
 "metadata": {
  "kernelspec": {
   "display_name": "Python 3",
   "language": "python",
   "name": "python3"
  },
  "language_info": {
   "codemirror_mode": {
    "name": "ipython",
    "version": 3
   },
   "file_extension": ".py",
   "mimetype": "text/x-python",
   "name": "python",
   "nbconvert_exporter": "python",
   "pygments_lexer": "ipython3",
   "version": "3.7.0"
  }
 },
 "nbformat": 4,
 "nbformat_minor": 2
}
