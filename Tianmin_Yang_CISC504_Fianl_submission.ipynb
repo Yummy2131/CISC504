{
 "cells": [
  {
   "cell_type": "markdown",
   "metadata": {},
   "source": [
    "Develop an algorithm which will be used by a vending machine to dispense change. The cost of the item can be any amount up to five dollars and we will assume that the machine only accepts 5 dollar bills and returns change using the highest form of currency first, the dollar bill, followed by quarters then dimes, then nickels, and finally pennies. So if an item costs $ 1.65 the machine will return three 1 dollar bills and one quarter and 1 dime. Print “Insert More Money” if the amount entered is less than cost of the item selected for vending, otherwise dispense correct change."
   ]
  },
  {
   "cell_type": "code",
   "execution_count": 2,
   "metadata": {},
   "outputs": [
    {
     "name": "stdout",
     "output_type": "stream",
     "text": [
      "Please select from M&M, Oreo or CokeCoke\n",
      "Your merchandise price is  1.53\n",
      "Your return is  3.47\n",
      "Your total return is  3  Dollars  1  Quarters  0  Dimes 4 Nickels 2 Pennies\n"
     ]
    }
   ],
   "source": [
    "#Initial value set\n",
    "d=0\n",
    "q=0\n",
    "c=0\n",
    "d=0\n",
    "p=0\n",
    "merchandise={'M&M':2.5,'Oreo':3.25,'Coke':1.53}\n",
    "\n",
    "#Having input \n",
    "i=input('Please select from M&M, Oreo or Coke')\n",
    "s=float(merchandise[i])\n",
    "print('Your merchandise price is ',s)\n",
    "r=round(5-s,2) # Amount of money should return\n",
    "print('Your return is ',r)\n",
    "\n",
    "#Sifting return value through currency\n",
    "if r<0:\n",
    "    print('Insert More Money')\n",
    "elif r>=1:\n",
    "    d=int(r-r%1)\n",
    "    r=r-d\n",
    "\n",
    "if r>=0.25:\n",
    "    q=int((r-(r%0.25))*4)\n",
    "    r=r-q/4\n",
    "\n",
    "if r>=0.1:\n",
    "    c=int((r-(r%0.1)*10))\n",
    "    r=r-c*0.1\n",
    "\n",
    "if r>=0.05:\n",
    "    n=int((r-(r%0.05))*20)\n",
    "    r=r-n*0.05\n",
    "    p=int(r*100)\n",
    "\n",
    "print('Your total return is ',d,' Dollars ',q,' Quarters ',c,' Dimes',n,'Nickels',p,'Pennies')    "
   ]
  },
  {
   "cell_type": "markdown",
   "metadata": {},
   "source": [
    "Write a program that modifies a string as follows: The user is solicited to input a string then a loop goes through the characters of the string one at a time, it changes all lower case characters to upper case characters, replaces spaces with one dash - , and adds an exclamation mark at the end of the string. \n",
    "So for example if a user types ‘I love python’ the program will output : I-LOVE-PYTHON. Remember as we saw in lesson 4 that the ord() and chr() functions can be used to retrieve the code for the characters and vice versa, encode and decode. Also there always exists a difference of 32 between the uppercase and lower case encodings of uppercase and lower case letters, for example ord(‘A’)=65 and ord(‘a’)=97, 97 – 65 = 32. (25 pts)"
   ]
  },
  {
   "cell_type": "code",
   "execution_count": 7,
   "metadata": {},
   "outputs": [
    {
     "name": "stdout",
     "output_type": "stream",
     "text": [
      "Please input your string I like your Netflix taste\n",
      "This is your output  I-LIKE-YOUR-NETFLIX-TASTE.\n"
     ]
    }
   ],
   "source": [
    "i=input('Please input your string ')\n",
    "l=len(i)\n",
    "O=''\n",
    "for j in range(l):\n",
    "    low=ord(i[j:j+1])\n",
    "    if i[j:j+1]==' ':\n",
    "        UPP='-'\n",
    "    elif 64<low<91:\n",
    "        UPP=i[j:j+1]\n",
    "    else:\n",
    "        UPP=chr(int(low-32))\n",
    "    \n",
    "    O=O+UPP\n",
    "print('This is your output ', O+'.')"
   ]
  },
  {
   "cell_type": "markdown",
   "metadata": {},
   "source": [
    "Develop an algorithm which incorporates decision making and Boolean logic, create a flowchart, and then develop the code. \n",
    "The algorithm could be a classification algorithm, a process for solving a problem, or a few questions which help a user buy a car, choose an area to go to vacation based on weather and other preferences, or a n interactive story where the user input changes the sequence of upcoming events, be creative. \n",
    "You will be graded according to the following criteria: \n",
    "a- Was the idea creative and interesting? (15) \n",
    "b- Does the suggested algorithm function properly as designed and intended? (15) \n",
    "c- Does the flowchart properly describe the algorithm? (10) \n",
    "d- Control structure development proficiency, is the program coded efficiently and elegantly? (10)"
   ]
  },
  {
   "cell_type": "markdown",
   "metadata": {},
   "source": [
    "![Image of flowchart](https://github.com/Yummy2131/CISC504/blob/master/Tianmin_Flowchart_Final.png)"
   ]
  },
  {
   "cell_type": "code",
   "execution_count": 1,
   "metadata": {},
   "outputs": [
    {
     "name": "stdout",
     "output_type": "stream",
     "text": [
      "For  Country Pc ,military power  2 domestic power  1\n",
      "For  Your Country ,military power  1 domestic power  2\n",
      "Game On\n",
      "Please select your move: Expand, Still or Cut Still\n",
      "Your move is Still\n",
      "PC move is  Still\n",
      "For  Country Pc ,military power  2 domestic power  2\n",
      "For  Your Country ,military power  1 domestic power  3\n",
      "Please select your move: Expand, Still or Cut Cut\n",
      "Your move is Cut\n",
      "PC move is  Expand\n",
      "For  Country Pc ,military power  3 domestic power  1\n",
      "For  Your Country ,military power  0 domestic power  2\n",
      "Please select your move: Expand, Still or Cut Cut\n",
      "Your move is Cut\n",
      "PC move is  Still\n",
      "For  Country Pc ,military power  3 domestic power  2\n",
      "For  Your Country ,military power  -1 domestic power  2\n",
      "Please select your move: Expand, Still or Cut Cut\n",
      "Your move is Cut\n",
      "PC move is  Still\n",
      "For  Country Pc ,military power  3 domestic power  3\n",
      "For  Your Country ,military power  -2 domestic power  2\n",
      "Please select your move: Expand, Still or Cut Cut\n",
      "Your move is Cut\n",
      "PC move is  Cut\n",
      "This is peace\n"
     ]
    }
   ],
   "source": [
    "#Simulation of  Military Competition\n",
    "#Two country have the it's own condition of military and domestic power, there are 3 choices they could made each move:\n",
    "#Expand: Grow military power but economy suffer \n",
    "#Still:  Sustain military power,domestic economy grow\n",
    "#Cut:    Cut down military expanse and domestic economy grows\n",
    "#The game is recursive,each country has its military and domestic rate\n",
    "#If both country chosed 'Cut', the peace condition appears, if both chose 'Still', we are waiting for next move\n",
    "#Any power is larger than the other over 5 would lead to a win, any power is lower than the other by 5 would lead to a defeat\n",
    "\n",
    "import random\n",
    "move=['Expand','Still','Cut']\n",
    "\n",
    "class Countries:\n",
    "    def __init__(self,n,m,d):\n",
    "        self.name=n\n",
    "        self.military=m\n",
    "        self.domestic=d\n",
    "    \n",
    "    def move(self,key):\n",
    "        if key=='Expand':\n",
    "            self.military+=1\n",
    "            self.domestic-=1\n",
    "        elif key=='Still':\n",
    "            self.domestic+=1\n",
    "        else:\n",
    "            self.military-=1\n",
    "            self.domestic=+2\n",
    "    \n",
    "    def print_power(self):\n",
    "        print('For ',self.name,',military power ',self.military,'domestic power ',self.domestic)\n",
    "    \n",
    "    def __sub__(self,other):\n",
    "        return Countries('Remain',self.military-other.military,self.domestic-other.domestic)\n",
    "\n",
    "      \n",
    "#Initiate the value\n",
    "c1=Countries('Country Pc',random.randint(0,2),random.randint(0,2))\n",
    "c1.print_power() \n",
    "c2=Countries('Your Country',random.randint(0,2),random.randint(0,2))\n",
    "c2.print_power() \n",
    "      \n",
    "print('Game On')\n",
    "\n",
    "while True:\n",
    "    pc=random.choice(move)\n",
    "    you=input('Please select your move: Expand, Still or Cut ').strip()\n",
    "    print('Your move is ',you)\n",
    "    print('PC move is ',pc)\n",
    "      \n",
    "    if you not in move:\n",
    "        print('Please input the wright move name')\n",
    "        print('--------------------------------------')\n",
    "        continue\n",
    "    elif pc==you=='Still':\n",
    "        print('You are in a dillema, wait for the next move')\n",
    "        print('--------------------------------------')\n",
    "        continue\n",
    "    elif pc==you=='Cut':\n",
    "        print('This is peace')\n",
    "        break\n",
    "    else:\n",
    "        c1.move(pc)\n",
    "        c2.move(you)\n",
    "        c_dif=c1-c2\n",
    "        print('--------------------------------------')\n",
    "        if c_dif.military>5 or c_dif.domestic>5:\n",
    "            print('The computer wins')\n",
    "            break\n",
    "        elif c_dif.military<-5 or c_dif.domestic<-5:\n",
    "            print('You wins')\n",
    "            break\n",
    "        else:\n",
    "            c1.print_power() \n",
    "            c2.print_power() \n",
    "            print('--------------------------------------')\n",
    "            continue"
   ]
  }
 ],
 "metadata": {
  "kernelspec": {
   "display_name": "Python 3",
   "language": "python",
   "name": "python3"
  },
  "language_info": {
   "codemirror_mode": {
    "name": "ipython",
    "version": 3
   },
   "file_extension": ".py",
   "mimetype": "text/x-python",
   "name": "python",
   "nbconvert_exporter": "python",
   "pygments_lexer": "ipython3",
   "version": "3.7.0"
  }
 },
 "nbformat": 4,
 "nbformat_minor": 2
}
