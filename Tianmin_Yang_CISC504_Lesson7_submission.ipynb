{
 "cells": [
  {
   "cell_type": "markdown",
   "metadata": {},
   "source": [
    "Write a conversion program, calculator, or write any other program which uses a multi-way decision structure \n",
    "if, elif, else, and boolean logic to classify the outcome."
   ]
  },
  {
   "cell_type": "code",
   "execution_count": 4,
   "metadata": {},
   "outputs": [
    {
     "name": "stdout",
     "output_type": "stream",
     "text": [
      "Would you like to measure your foot in inch or centemeter? Input \"in\" or \"cm\" in\n",
      "Please input your foot length 11\n",
      "You probably should buy men's shoe\n"
     ]
    }
   ],
   "source": [
    "unit=input('Would you like to measure your foot in inch or centemeter? Input \"in\" or \"cm\" ')\n",
    "if unit=='cm':\n",
    "    cm=float(input('Please input your foot length '))\n",
    "    if cm>27:\n",
    "        print(\"You probably should buy men's shoe\")\n",
    "    elif cm<22:\n",
    "        print(\"You probably should buy kid shoe\")\n",
    "    else:\n",
    "        print(\"You probably should buy women shoe\")\n",
    "else:\n",
    "    inch=float(input('Please input your foot length '))\n",
    "    if inch>10.5:\n",
    "        print(\"You probably should buy men's shoe\")\n",
    "    elif inch<8.5:\n",
    "        print(\"You probably should buy kid shoe\")\n",
    "    else:\n",
    "        print(\"You probably should buy women shoe\")"
   ]
  },
  {
   "cell_type": "markdown",
   "metadata": {},
   "source": [
    "Write a program which will generate some exceptions then use the try,except, else, and finally statements to handle them."
   ]
  },
  {
   "cell_type": "code",
   "execution_count": 3,
   "metadata": {},
   "outputs": [
    {
     "name": "stdout",
     "output_type": "stream",
     "text": [
      "Input bar people  old man\n",
      "Input bar people  dude\n",
      "Input bar people  pretty girl\n",
      "Input bar people  strong dude\n",
      "Input bar people  girl\n",
      "Input bar people  pretty girl\n",
      "Input bar people  dude\n",
      "Input bar people  strong dude\n",
      "Input bar people  old man\n",
      "Input bar people  girl\n",
      "['old man', 'dude', 'pretty girl', 'strong dude', 'girl', 'pretty girl', 'dude', 'strong dude', 'old man', 'girl']\n",
      "seat  2  is unapprochable\n",
      "Another drink?\n",
      "Hit it at seat  5\n",
      "Another drink?\n"
     ]
    }
   ],
   "source": [
    "bar=[]\n",
    "for a in range(10):\n",
    "    p=input('Input bar people  ')\n",
    "    bar.append(p)\n",
    "\n",
    "print(bar)\n",
    "for i in range(7):\n",
    "    if bar[i]=='pretty girl':\n",
    "        try: \n",
    "            if bar[(i-1)]=='strong dude' or bar[(i+1)]=='strong dude':\n",
    "                print('seat ',i,' is unapprochable' )\n",
    "            elif bar[i-1]=='girl' or bar[i+1]=='girl':\n",
    "                print('Hit it at seat ',i )\n",
    "        except:\n",
    "            print('You are drunk')\n",
    "        finally:\n",
    "            print('Another drink?')\n",
    "        "
   ]
  },
  {
   "cell_type": "code",
   "execution_count": null,
   "metadata": {},
   "outputs": [],
   "source": [
    "import time as t\n",
    "import datetime as dt\n",
    "\n",
    "t.time()"
   ]
  }
 ],
 "metadata": {
  "kernelspec": {
   "display_name": "Python 3",
   "language": "python",
   "name": "python3"
  },
  "language_info": {
   "codemirror_mode": {
    "name": "ipython",
    "version": 3
   },
   "file_extension": ".py",
   "mimetype": "text/x-python",
   "name": "python",
   "nbconvert_exporter": "python",
   "pygments_lexer": "ipython3",
   "version": "3.7.0"
  }
 },
 "nbformat": 4,
 "nbformat_minor": 2
}
