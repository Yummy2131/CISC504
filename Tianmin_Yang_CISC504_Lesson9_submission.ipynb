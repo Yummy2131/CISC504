{
 "cells": [
  {
   "cell_type": "markdown",
   "metadata": {},
   "source": [
    "Exercise 1: Write an algorithm which incoporates a loop which iterates over List_1, posted below, and determines if a number is odd or even. If an number is even it prints out str(number) + 'This number is even' otherwise it prints out 'this number is odd'.\n",
    "List_1 = [1, 4, 5, 6, 3, 2, 7 ,8 , 66, 54, 78, 97, 54, 34, 67, 65 56, 45, 54]\n",
    "Develop a modified version of the above described loop which stops at the value 66.\n",
    "Develop a modified version of the same loop which skips over the value 8 and stops when it reaches the value 65."
   ]
  },
  {
   "cell_type": "code",
   "execution_count": 2,
   "metadata": {},
   "outputs": [
    {
     "name": "stdout",
     "output_type": "stream",
     "text": [
      "1  This number is odd\n",
      "4  This number is even\n",
      "5  This number is odd\n",
      "6  This number is even\n",
      "3  This number is odd\n",
      "2  This number is even\n",
      "7  This number is odd\n",
      "8  This number is even\n",
      "66  This number is even\n",
      "54  This number is even\n",
      "78  This number is even\n",
      "97  This number is odd\n",
      "54  This number is even\n",
      "34  This number is even\n",
      "67  This number is odd\n",
      "65  This number is odd\n",
      "56  This number is even\n",
      "45  This number is odd\n",
      "54  This number is even\n"
     ]
    }
   ],
   "source": [
    "List_1 = [1, 4, 5, 6, 3, 2, 7 ,8 , 66, 54, 78, 97, 54, 34, 67, 65, 56, 45, 54]\n",
    "\n",
    "for i in List_1:\n",
    "    if i%2==1:\n",
    "        print(str(i),' This number is odd')\n",
    "    else:\n",
    "        print(str(i),' This number is even')"
   ]
  },
  {
   "cell_type": "code",
   "execution_count": 21,
   "metadata": {},
   "outputs": [
    {
     "name": "stdout",
     "output_type": "stream",
     "text": [
      "1  This number is odd\n",
      "4  This number is even\n",
      "5  This number is odd\n",
      "6  This number is even\n",
      "3  This number is odd\n",
      "2  This number is even\n",
      "7  This number is odd\n",
      "8  This number is even\n"
     ]
    }
   ],
   "source": [
    "# e as ending, the last word of the sentence\n",
    "e=''\n",
    "for i in List_1:\n",
    "    if i==66:\n",
    "        break\n",
    "    elif i%2==1:\n",
    "        e='odd'\n",
    "    else:\n",
    "        e='even'\n",
    "    print(str(i),' This number is',e)"
   ]
  },
  {
   "cell_type": "code",
   "execution_count": 22,
   "metadata": {},
   "outputs": [
    {
     "name": "stdout",
     "output_type": "stream",
     "text": [
      "1  This number is odd\n",
      "4  This number is even\n",
      "5  This number is odd\n",
      "6  This number is even\n",
      "3  This number is odd\n",
      "2  This number is even\n",
      "7  This number is odd\n",
      "66  This number is even\n",
      "54  This number is even\n",
      "78  This number is even\n",
      "97  This number is odd\n",
      "54  This number is even\n",
      "34  This number is even\n",
      "67  This number is odd\n"
     ]
    }
   ],
   "source": [
    "for i in List_1:\n",
    "    if i==65:\n",
    "        break\n",
    "    elif i==8:\n",
    "        continue\n",
    "    elif i%2==1:\n",
    "        e='odd'\n",
    "    else:\n",
    "        e='even'\n",
    "    print(str(i),' This number is',e)"
   ]
  },
  {
   "cell_type": "markdown",
   "metadata": {},
   "source": [
    "Exercise 2: Write a program which uses a while loop then transform it so that it uses the for loop to produce the same output."
   ]
  },
  {
   "cell_type": "code",
   "execution_count": 12,
   "metadata": {},
   "outputs": [
    {
     "name": "stdout",
     "output_type": "stream",
     "text": [
      "0\n",
      "1\n",
      "1\n",
      "2\n",
      "3\n",
      "5\n",
      "8\n",
      "13\n",
      "21\n"
     ]
    }
   ],
   "source": [
    "#Fibonacci serie\n",
    "i=0\n",
    "j=1\n",
    "print(i)\n",
    "print(j)\n",
    "while i<10 and j<20:\n",
    "    k=i+j\n",
    "    print(k)\n",
    "    i,j=j,i\n",
    "    j,k=k,j"
   ]
  },
  {
   "cell_type": "code",
   "execution_count": 19,
   "metadata": {},
   "outputs": [
    {
     "name": "stdout",
     "output_type": "stream",
     "text": [
      "0\n",
      "1\n",
      "1\n",
      "2\n",
      "3\n",
      "5\n",
      "8\n",
      "13\n",
      "21\n"
     ]
    }
   ],
   "source": [
    "#Fibonacci serie\n",
    "i=0\n",
    "j=1\n",
    "l=[0,1]\n",
    "\n",
    "for i in l:\n",
    "    if j>20:\n",
    "        break\n",
    "    else:\n",
    "        k=i+j\n",
    "        l.append(k)\n",
    "        i,j=j,i\n",
    "        j,k=k,j\n",
    "        \n",
    "for x in range(len(l)): \n",
    "    print (l[x])"
   ]
  }
 ],
 "metadata": {
  "kernelspec": {
   "display_name": "Python 3",
   "language": "python",
   "name": "python3"
  },
  "language_info": {
   "codemirror_mode": {
    "name": "ipython",
    "version": 3
   },
   "file_extension": ".py",
   "mimetype": "text/x-python",
   "name": "python",
   "nbconvert_exporter": "python",
   "pygments_lexer": "ipython3",
   "version": "3.7.0"
  }
 },
 "nbformat": 4,
 "nbformat_minor": 2
}
