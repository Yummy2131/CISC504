{
 "cells": [
  {
   "cell_type": "markdown",
   "metadata": {},
   "source": [
    "Homework 5\n",
    "Draw Issey Miyake A Poc short Movie\n",
    "https://www.youtube.com/watch?v=x4_mK9CebB4"
   ]
  },
  {
   "cell_type": "code",
   "execution_count": 8,
   "metadata": {},
   "outputs": [
    {
     "data": {
      "application/vnd.jupyter.widget-view+json": {
       "model_id": "4bd4eed3533045f7b9d243d26f090439",
       "version_major": 2,
       "version_minor": 0
      },
      "text/plain": [
       "Turtle()"
      ]
     },
     "metadata": {},
     "output_type": "display_data"
    }
   ],
   "source": [
    "import math\n",
    "from mobilechelonian import Turtle\n",
    "t = Turtle()\n",
    "t.speed(250)\n",
    "def coord(x,y):\n",
    "    t.penup()\n",
    "    t.forward((x/2-400)-2) # Divided by 2 to fit in canvas, subtract by 2 leave the brush stroke area\n",
    "    t.right(90)\n",
    "    t.forward((y/2-400)-2)\n",
    "    t.pendown()\n",
    "    t.circle(2,30) # draw full circle is really slow\n",
    "    t.penup()\n",
    "    t.home()\n",
    "\n",
    "def line(x1,y1,x2,y2):\n",
    "    s=math.sqrt((y2-y1)**2+(x2-x1)**2)\n",
    "    sinvalue=(y2-y1)/s\n",
    "    d=math.degrees(math.asin(sinvalue))\n",
    "    t.penup()\n",
    "    t.forward((x1/2-400)-2)\n",
    "    t.right(90)\n",
    "    t.forward((y1/2-400)-2)\n",
    "    t.left(90-d)\n",
    "    t.pendown()\n",
    "    t.forward(int(s/2))\n",
    "    t.penup()\n",
    "    t.home()         \n",
    "\n",
    "#Head\n",
    "coord(670,450)\n",
    "coord(670,510)\n",
    "line(670,450,670,510)\n",
    "\n",
    "#left\n",
    "coord(610,530)\n",
    "coord(630,720)\n",
    "line(610,530,630,720)\n",
    "coord(605,650)\n",
    "line(610,530,605,650)\n",
    "coord(595,790)\n",
    "line(605,650,595,790)\n",
    "line(630,720,595,790)\n",
    "\n",
    "#Right\n",
    "coord(710,520)\n",
    "coord(725,630)\n",
    "coord(700,720)\n",
    "coord(760,750)\n",
    "line(710,520,725,630)\n",
    "line(710,520,700,720)\n",
    "line(725,630,760,750)\n",
    "line(700,720,760,750)\n",
    "\n",
    "#Legs\n",
    "coord(650,890)\n",
    "coord(680,890)\n",
    "coord(680,1070)\n",
    "coord(650,1000)\n",
    "line(650,890,680,1070)\n",
    "line(680,890,650,1000)"
   ]
  },
  {
   "cell_type": "code",
   "execution_count": 3,
   "metadata": {},
   "outputs": [
    {
     "data": {
      "application/vnd.jupyter.widget-view+json": {
       "model_id": "bd766192c9ea42ea804af789ddf4ff23",
       "version_major": 2,
       "version_minor": 0
      },
      "text/plain": [
       "Turtle()"
      ]
     },
     "metadata": {},
     "output_type": "display_data"
    }
   ],
   "source": []
  },
  {
   "cell_type": "code",
   "execution_count": null,
   "metadata": {},
   "outputs": [],
   "source": []
  }
 ],
 "metadata": {
  "kernelspec": {
   "display_name": "Python 3",
   "language": "python",
   "name": "python3"
  },
  "language_info": {
   "codemirror_mode": {
    "name": "ipython",
    "version": 3
   },
   "file_extension": ".py",
   "mimetype": "text/x-python",
   "name": "python",
   "nbconvert_exporter": "python",
   "pygments_lexer": "ipython3",
   "version": "3.7.0"
  }
 },
 "nbformat": 4,
 "nbformat_minor": 2
}
